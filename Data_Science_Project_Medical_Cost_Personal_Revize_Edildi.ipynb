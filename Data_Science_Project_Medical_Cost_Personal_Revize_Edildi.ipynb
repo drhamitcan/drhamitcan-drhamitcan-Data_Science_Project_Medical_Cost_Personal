{
 "cells": [
  {
   "cell_type": "markdown",
   "id": "7f796262",
   "metadata": {},
   "source": [
    "# Gerekli Kütüphanelerin Eklenmesi\n"
   ]
  },
  {
   "cell_type": "code",
   "execution_count": 1,
   "id": "a5e281ee",
   "metadata": {},
   "outputs": [],
   "source": [
    "import numpy as np\n",
    "import pandas as pd\n",
    "import matplotlib.pyplot as plt\n",
    "import seaborn as sns\n",
    "from sklearn.preprocessing import LabelEncoder\n",
    "from sklearn.model_selection import train_test_split\n",
    "from sklearn import preprocessing\n",
    "from sklearn.linear_model import LinearRegression\n",
    "from sklearn.linear_model import Ridge\n",
    "from sklearn.linear_model import Lasso\n",
    "from sklearn.metrics import classification_report\n",
    "from sklearn.model_selection import GridSearchCV\n",
    "from sklearn.model_selection import RandomizedSearchCV, KFold\n",
    "from sklearn.model_selection import cross_val_score\n",
    "from sklearn.metrics import mean_squared_error\n",
    "from sklearn.preprocessing import StandardScaler\n",
    "from sklearn.preprocessing import PolynomialFeatures"
   ]
  },
  {
   "cell_type": "markdown",
   "id": "3fbfbb56",
   "metadata": {},
   "source": [
    "# Veri ön inceleme"
   ]
  },
  {
   "cell_type": "code",
   "execution_count": 2,
   "id": "fa883cf5",
   "metadata": {},
   "outputs": [],
   "source": [
    "insurance = pd.read_csv(r\"C:\\Users\\ibrah\\OneDrive\\Masaüstü\\Pythonnnnnnn\\Global AI Hub Projects\\Data Science Project\\Data\\insurance.csv\")"
   ]
  },
  {
   "cell_type": "code",
   "execution_count": 3,
   "id": "b835fcde",
   "metadata": {},
   "outputs": [
    {
     "name": "stdout",
     "output_type": "stream",
     "text": [
      "<class 'pandas.core.frame.DataFrame'>\n",
      "RangeIndex: 1338 entries, 0 to 1337\n",
      "Data columns (total 7 columns):\n",
      " #   Column    Non-Null Count  Dtype  \n",
      "---  ------    --------------  -----  \n",
      " 0   age       1338 non-null   int64  \n",
      " 1   sex       1338 non-null   object \n",
      " 2   bmi       1338 non-null   float64\n",
      " 3   children  1338 non-null   int64  \n",
      " 4   smoker    1338 non-null   object \n",
      " 5   region    1338 non-null   object \n",
      " 6   charges   1338 non-null   float64\n",
      "dtypes: float64(2), int64(2), object(3)\n",
      "memory usage: 73.3+ KB\n"
     ]
    }
   ],
   "source": [
    "insurance.info()"
   ]
  },
  {
   "cell_type": "code",
   "execution_count": 4,
   "id": "355dffc5",
   "metadata": {},
   "outputs": [
    {
     "data": {
      "text/html": [
       "<div>\n",
       "<style scoped>\n",
       "    .dataframe tbody tr th:only-of-type {\n",
       "        vertical-align: middle;\n",
       "    }\n",
       "\n",
       "    .dataframe tbody tr th {\n",
       "        vertical-align: top;\n",
       "    }\n",
       "\n",
       "    .dataframe thead th {\n",
       "        text-align: right;\n",
       "    }\n",
       "</style>\n",
       "<table border=\"1\" class=\"dataframe\">\n",
       "  <thead>\n",
       "    <tr style=\"text-align: right;\">\n",
       "      <th></th>\n",
       "      <th>age</th>\n",
       "      <th>sex</th>\n",
       "      <th>bmi</th>\n",
       "      <th>children</th>\n",
       "      <th>smoker</th>\n",
       "      <th>region</th>\n",
       "      <th>charges</th>\n",
       "    </tr>\n",
       "  </thead>\n",
       "  <tbody>\n",
       "    <tr>\n",
       "      <th>0</th>\n",
       "      <td>19</td>\n",
       "      <td>female</td>\n",
       "      <td>27.90</td>\n",
       "      <td>0</td>\n",
       "      <td>yes</td>\n",
       "      <td>southwest</td>\n",
       "      <td>16884.9240</td>\n",
       "    </tr>\n",
       "    <tr>\n",
       "      <th>1</th>\n",
       "      <td>18</td>\n",
       "      <td>male</td>\n",
       "      <td>33.77</td>\n",
       "      <td>1</td>\n",
       "      <td>no</td>\n",
       "      <td>southeast</td>\n",
       "      <td>1725.5523</td>\n",
       "    </tr>\n",
       "    <tr>\n",
       "      <th>2</th>\n",
       "      <td>28</td>\n",
       "      <td>male</td>\n",
       "      <td>33.00</td>\n",
       "      <td>3</td>\n",
       "      <td>no</td>\n",
       "      <td>southeast</td>\n",
       "      <td>4449.4620</td>\n",
       "    </tr>\n",
       "  </tbody>\n",
       "</table>\n",
       "</div>"
      ],
      "text/plain": [
       "   age     sex    bmi  children smoker     region     charges\n",
       "0   19  female  27.90         0    yes  southwest  16884.9240\n",
       "1   18    male  33.77         1     no  southeast   1725.5523\n",
       "2   28    male  33.00         3     no  southeast   4449.4620"
      ]
     },
     "execution_count": 4,
     "metadata": {},
     "output_type": "execute_result"
    }
   ],
   "source": [
    "insurance.head(3)"
   ]
  },
  {
   "cell_type": "code",
   "execution_count": 5,
   "id": "79458367",
   "metadata": {},
   "outputs": [
    {
     "name": "stdout",
     "output_type": "stream",
     "text": [
      "['female' 'male']\n",
      "['yes' 'no']\n",
      "['southwest' 'southeast' 'northwest' 'northeast']\n"
     ]
    }
   ],
   "source": [
    "print(insurance.sex.unique())\n",
    "print(insurance.smoker.unique())\n",
    "print(insurance.region.unique())"
   ]
  },
  {
   "cell_type": "code",
   "execution_count": 6,
   "id": "710c3189",
   "metadata": {},
   "outputs": [
    {
     "data": {
      "text/plain": [
       "age         0\n",
       "sex         0\n",
       "bmi         0\n",
       "children    0\n",
       "smoker      0\n",
       "region      0\n",
       "charges     0\n",
       "dtype: int64"
      ]
     },
     "execution_count": 6,
     "metadata": {},
     "output_type": "execute_result"
    }
   ],
   "source": [
    "insurance.isna().sum()"
   ]
  },
  {
   "cell_type": "markdown",
   "id": "ec8a9fb5",
   "metadata": {},
   "source": [
    "# Keşifsel Veri Analizi Yapılması\n"
   ]
  },
  {
   "cell_type": "markdown",
   "id": "4123df2a",
   "metadata": {},
   "source": [
    "###### Bmi(Vücut Kitle İndeksi)’nin dağılımı\n",
    "\n",
    "Bütün veri setindeki kişilerin vucut kitle edeksleri ortalaması 30, bu durum veri setimizde bulunan insanların ortalamadan fazlasının obezite sınırını geçtiklerini gösteriyor. Standart sapma 6, ki bu ortalamaya baktığımızda büyük bir rakam. Bunun anlamı kimileri ortalamında 6 birim üstünde vucut kitle endeksine sahipken kimileri ise ortalamın 6 birim altında vucut kitle endeksine sahip. Minimum değer vucut kitle endeksi 15 iken maksimum 53 ve verinin yüzde 25'i 50'si ve 75'i ile yaptığımızda ortalama hesaplamalarıda sırasıyla 26, 30, 34 olarak çıkmıştır."
   ]
  },
  {
   "cell_type": "code",
   "execution_count": 7,
   "id": "32b6e748",
   "metadata": {},
   "outputs": [
    {
     "data": {
      "text/plain": [
       "count    1338.000000\n",
       "mean       30.663397\n",
       "std         6.098187\n",
       "min        15.960000\n",
       "25%        26.296250\n",
       "50%        30.400000\n",
       "75%        34.693750\n",
       "max        53.130000\n",
       "Name: bmi, dtype: float64"
      ]
     },
     "execution_count": 7,
     "metadata": {},
     "output_type": "execute_result"
    }
   ],
   "source": [
    "insurance.bmi.describe()"
   ]
  },
  {
   "cell_type": "markdown",
   "id": "55dd02db",
   "metadata": {},
   "source": [
    "######  “Smoker” ile “charges” arasındaki ilişki\n",
    "\n",
    "Scatter plot ile chart oluşturduğumuzda açıkça görmekteyiz ki, sigara içenlerin charging'i içmeyenlere göre % 50 fazla. Bunu daha iyi görebilmek için veri setini ikiye ayırdık birisi içenler diğeri ise içmeyenler olacak şekilde. İçenlere baktığımızda ortalama charging 32050 buna karşın içmeyenlerde 8434 bu bize gösteriyor ki aradaki fark 4 kattır. İçmeyenler içenlere göre ortalama 4 kat daha ucuz sigorta pirimleri ödüyor."
   ]
  },
  {
   "cell_type": "code",
   "execution_count": 8,
   "id": "ddea769c",
   "metadata": {},
   "outputs": [
    {
     "data": {
      "image/png": "[encoded data removed]",
      "text/plain": [
       "<Figure size 432x288 with 1 Axes>"
      ]
     },
     "metadata": {
      "needs_background": "light"
     },
     "output_type": "display_data"
    }
   ],
   "source": [
    "sns.set_style(\"darkgrid\")\n",
    "\n",
    "ax = sns.scatterplot(x= \"smoker\",\n",
    "           y= \"charges\",\n",
    "           hue= \"smoker\",     \n",
    "           data= insurance)\n",
    "ax.set(xlabel=None)\n",
    "plt.show()"
   ]
  },
  {
   "cell_type": "code",
   "execution_count": 9,
   "id": "d5f67840",
   "metadata": {},
   "outputs": [
    {
     "name": "stdout",
     "output_type": "stream",
     "text": [
      "count      274.000000\n",
      "mean     32050.231832\n",
      "std      11541.547176\n",
      "min      12829.455100\n",
      "25%      20826.244213\n",
      "50%      34456.348450\n",
      "75%      41019.207275\n",
      "max      63770.428010\n",
      "Name: charges, dtype: float64\n",
      "count     1064.000000\n",
      "mean      8434.268298\n",
      "std       5993.781819\n",
      "min       1121.873900\n",
      "25%       3986.438700\n",
      "50%       7345.405300\n",
      "75%      11362.887050\n",
      "max      36910.608030\n",
      "Name: charges, dtype: float64\n"
     ]
    }
   ],
   "source": [
    "smoker_yes = insurance[insurance[\"smoker\"] == \"yes\"]\n",
    "smoker_no = insurance[insurance[\"smoker\"] == \"no\"]\n",
    "print(smoker_yes[\"charges\"].describe())\n",
    "print(smoker_no[\"charges\"].describe())"
   ]
  },
  {
   "cell_type": "markdown",
   "id": "e58a80f9",
   "metadata": {},
   "source": [
    "######  “Smoker” (Sigara tüketen) ile “region”(Bölge) arasındaki ilişki\n",
    "\n",
    "Burada da yukarda içenler içmeyenler diye hazırladığım data gruplarını kullanıp, catplot chart'ı ile en fazla hangi bölgede en az hangi bögelerde sigara içildiğini görselleştirdik. Buna göre en çok sigara southeast buna karşın en az sigara ise southwest ve northwest bölgelerinde içiliyor."
   ]
  },
  {
   "cell_type": "code",
   "execution_count": 10,
   "id": "626a0299",
   "metadata": {},
   "outputs": [
    {
     "data": {
      "image/png": "[encoded data removed]",
      "text/plain": [
       "<Figure size 360x360 with 1 Axes>"
      ]
     },
     "metadata": {
      "needs_background": "light"
     },
     "output_type": "display_data"
    }
   ],
   "source": [
    "plot = sns.catplot(x= \"region\",\n",
    "           data= smoker_yes,\n",
    "           kind= \"count\")\n",
    "plot.set(xlabel= \"Bölgeler\",\n",
    "    ylabel= \"Sigar İçenlerin Sayısı\")\n",
    "\n",
    "plt.show()"
   ]
  },
  {
   "cell_type": "markdown",
   "id": "270c74aa",
   "metadata": {},
   "source": [
    "###### “Bmi” ile “sex” (Cinsiyet) arasındaki ilişki\n",
    "\n",
    "Aralarında çok güçlü bir bağ yok. Çünkü grafiğe ve dağılımlara baktığında çok fazla bir değişim görmüyorsun. Ortalamalar neredeyse aynı, min ve max değerlerinde çok ufak değişmeler var sadece.\n"
   ]
  },
  {
   "cell_type": "code",
   "execution_count": 11,
   "id": "553f980e",
   "metadata": {},
   "outputs": [
    {
     "data": {
      "image/png": "[encoded data removed]",
      "text/plain": [
       "<Figure size 432x288 with 1 Axes>"
      ]
     },
     "metadata": {},
     "output_type": "display_data"
    }
   ],
   "source": [
    "sns.set_style(\"darkgrid\")\n",
    "\n",
    "ax = sns.scatterplot(x= \"sex\",\n",
    "           y= \"bmi\",\n",
    "           hue= \"sex\",     \n",
    "           data= insurance)\n",
    "ax.set(xlabel=None)\n",
    "plt.show()"
   ]
  },
  {
   "cell_type": "code",
   "execution_count": 12,
   "id": "164e1573",
   "metadata": {},
   "outputs": [
    {
     "name": "stdout",
     "output_type": "stream",
     "text": [
      "count    662.000000\n",
      "mean      30.377749\n",
      "std        6.046023\n",
      "min       16.815000\n",
      "25%       26.125000\n",
      "50%       30.107500\n",
      "75%       34.313750\n",
      "max       48.070000\n",
      "Name: bmi, dtype: float64\n",
      "count    676.000000\n",
      "mean      30.943129\n",
      "std        6.140435\n",
      "min       15.960000\n",
      "25%       26.410000\n",
      "50%       30.687500\n",
      "75%       34.992500\n",
      "max       53.130000\n",
      "Name: bmi, dtype: float64\n"
     ]
    }
   ],
   "source": [
    "female_bmi = insurance[insurance[\"sex\"] == \"female\"].bmi.describe()\n",
    "male_bmi = insurance[insurance[\"sex\"] == \"male\"].bmi.describe()\n",
    "\n",
    "print(female_bmi)\n",
    "print(male_bmi)"
   ]
  },
  {
   "cell_type": "markdown",
   "id": "1d693492",
   "metadata": {},
   "source": [
    "###### En çok “children”’a sahip “region”’\n",
    "\n",
    "Southeast bölgesi 382 ile en fazla çocuğa sahip, onu 373 ve 371 ile sırasıyla northwest ve southwest tahip ediyor."
   ]
  },
  {
   "cell_type": "code",
   "execution_count": 13,
   "id": "8c059330",
   "metadata": {},
   "outputs": [
    {
     "data": {
      "text/html": [
       "<div>\n",
       "<style scoped>\n",
       "    .dataframe tbody tr th:only-of-type {\n",
       "        vertical-align: middle;\n",
       "    }\n",
       "\n",
       "    .dataframe tbody tr th {\n",
       "        vertical-align: top;\n",
       "    }\n",
       "\n",
       "    .dataframe thead tr th {\n",
       "        text-align: left;\n",
       "    }\n",
       "\n",
       "    .dataframe thead tr:last-of-type th {\n",
       "        text-align: right;\n",
       "    }\n",
       "</style>\n",
       "<table border=\"1\" class=\"dataframe\">\n",
       "  <thead>\n",
       "    <tr>\n",
       "      <th></th>\n",
       "      <th>children</th>\n",
       "    </tr>\n",
       "    <tr>\n",
       "      <th></th>\n",
       "      <th>sum</th>\n",
       "    </tr>\n",
       "    <tr>\n",
       "      <th>region</th>\n",
       "      <th></th>\n",
       "    </tr>\n",
       "  </thead>\n",
       "  <tbody>\n",
       "    <tr>\n",
       "      <th>northeast</th>\n",
       "      <td>339</td>\n",
       "    </tr>\n",
       "    <tr>\n",
       "      <th>northwest</th>\n",
       "      <td>373</td>\n",
       "    </tr>\n",
       "    <tr>\n",
       "      <th>southeast</th>\n",
       "      <td>382</td>\n",
       "    </tr>\n",
       "    <tr>\n",
       "      <th>southwest</th>\n",
       "      <td>371</td>\n",
       "    </tr>\n",
       "  </tbody>\n",
       "</table>\n",
       "</div>"
      ],
      "text/plain": [
       "          children\n",
       "               sum\n",
       "region            \n",
       "northeast      339\n",
       "northwest      373\n",
       "southeast      382\n",
       "southwest      371"
      ]
     },
     "execution_count": 13,
     "metadata": {},
     "output_type": "execute_result"
    }
   ],
   "source": [
    "insurance.groupby([\"region\"])[[ \"children\"]].agg([np.sum])"
   ]
  },
  {
   "cell_type": "markdown",
   "id": "4295fdaf",
   "metadata": {},
   "source": [
    "######  “Age” ile “bmi” arasındaki ilişki\n",
    "\n",
    "Aralarındaki ilişkiye bakabilmek için en sağlıklı grafiğin line grap olduğunu düşündüğüm için line graph çizdim. Chart'ı incelediğimde açıkça görüyorum ki doğrusal bir ilişki yok. Yaşlara ve dönemlere göre bmi değişiklik gösterebiliyor ama bu değişimler çok küçük rakamlar olduğu için age ve bmi arasındaki ilişkiye negatif diyorum."
   ]
  },
  {
   "cell_type": "code",
   "execution_count": 14,
   "id": "230a9c46",
   "metadata": {},
   "outputs": [
    {
     "data": {
      "image/png": "[encoded data removed]",
      "text/plain": [
       "<Figure size 432x288 with 1 Axes>"
      ]
     },
     "metadata": {},
     "output_type": "display_data"
    }
   ],
   "source": [
    "sns.lineplot(x= \"age\",\n",
    "             y= \"bmi\",\n",
    "            data= insurance)\n",
    "plt.show()"
   ]
  },
  {
   "cell_type": "markdown",
   "id": "a6e72adc",
   "metadata": {},
   "source": [
    "###### “Bmi” ile “children” arasındaki ilişki\n",
    "\n",
    "Bmi ve childeren arasındaki ilişki de 3 çocuğa kadar pasif kalmış, daha sonrasında 4. çocukta yarım puan artmış ve 5. çocukta 1 puan düşmüş. Güçlü bir ilişki diyemeyiz. Yarım ve 1 puanlık değişimlerin sebebi çocuk olması için güçlü emareler yok."
   ]
  },
  {
   "cell_type": "code",
   "execution_count": 15,
   "id": "6b0617d4",
   "metadata": {},
   "outputs": [
    {
     "data": {
      "image/png": "[encoded data removed]",
      "text/plain": [
       "<Figure size 432x288 with 1 Axes>"
      ]
     },
     "metadata": {},
     "output_type": "display_data"
    }
   ],
   "source": [
    "sns.lineplot(x= \"children\",\n",
    "             y= \"bmi\",\n",
    "            data= insurance)\n",
    "plt.show()"
   ]
  },
  {
   "cell_type": "markdown",
   "id": "5d0db9ad",
   "metadata": {},
   "source": [
    "###### “Bmi” değişkeninde outlier var mıdır?\n",
    "\n",
    "Outlier'ın var olup olmadığına bakabilmek için birden fazla yöntem var bunun için en çok kullanılan yöntemlerden birisi veriyi visualise etmek. İlk başta bmi verisinin tamamını görebilmek için female ve male olarak visualise ettim. Sonrasında daha dikkatli bakmak için min ve max taraflarına zoom yaptım."
   ]
  },
  {
   "cell_type": "code",
   "execution_count": 16,
   "id": "63349cf5",
   "metadata": {},
   "outputs": [
    {
     "data": {
      "text/plain": [
       "<seaborn.axisgrid.FacetGrid at 0x1aa171fb1f0>"
      ]
     },
     "execution_count": 16,
     "metadata": {},
     "output_type": "execute_result"
    },
    {
     "data": {
      "image/png": "[encoded data removed]",
      "text/plain": [
       "<Figure size 360x360 with 1 Axes>"
      ]
     },
     "metadata": {},
     "output_type": "display_data"
    }
   ],
   "source": [
    "sns.relplot(x = \"bmi\",\n",
    "              y= \"sex\",\n",
    "            data = insurance)\n"
   ]
  },
  {
   "cell_type": "markdown",
   "id": "e96b9e33",
   "metadata": {},
   "source": [
    "Bu zoom'u yapabilmek için veriyi iki gruba ayırdım. Bmi'nin 40'dan büyük ve 10'da küçük olduğu ihtimallerde veriyi iki ayrı şekilde visualise ettim. Daha sonrasında onları visualise ettiğimde zoom etmiş oldum ama açıkça görülüyor ki outlier yok."
   ]
  },
  {
   "cell_type": "code",
   "execution_count": 17,
   "id": "90579dfd",
   "metadata": {},
   "outputs": [],
   "source": [
    "bmi_out = insurance[insurance[\"bmi\"] >= 40]\n",
    "bmi_out_2 = insurance[insurance[\"bmi\"] <= 10]"
   ]
  },
  {
   "cell_type": "code",
   "execution_count": 18,
   "id": "9cd71484",
   "metadata": {},
   "outputs": [
    {
     "data": {
      "image/png": "[encoded data removed]",
      "text/plain": [
       "<Figure size 360x360 with 1 Axes>"
      ]
     },
     "metadata": {},
     "output_type": "display_data"
    },
    {
     "data": {
      "image/png": "[encoded data removed]",
      "text/plain": [
       "<Figure size 360x360 with 1 Axes>"
      ]
     },
     "metadata": {},
     "output_type": "display_data"
    }
   ],
   "source": [
    "sns.relplot(x = \"bmi\",\n",
    "              y= \"sex\",\n",
    "            data = bmi_out)\n",
    "sns.relplot(x = \"bmi\",\n",
    "              y= \"sex\",\n",
    "            data = bmi_out_2)\n",
    "plt.show()"
   ]
  },
  {
   "cell_type": "markdown",
   "id": "cb84de02",
   "metadata": {},
   "source": [
    "###### “Bmi” ile “charges” arasındaki ilişki\n",
    "\n",
    "Bmi ile charges arasındaki değişimi görmek için scatter plot kullandım. Veriyi scatter plot ile visualise ettiğimde 1000 ve altında çok fazla yığılma olduğu için veriyi charge değeri 1000 ve üstü olacak şekilde filter ettim.\n"
   ]
  },
  {
   "cell_type": "code",
   "execution_count": 19,
   "id": "70205db5",
   "metadata": {},
   "outputs": [
    {
     "data": {
      "image/png": "[encoded data removed]",
      "text/plain": [
       "<Figure size 432x288 with 1 Axes>"
      ]
     },
     "metadata": {},
     "output_type": "display_data"
    }
   ],
   "source": [
    "sns.scatterplot(x= \"bmi\",\n",
    "             y= \"charges\",\n",
    "            data= insurance)\n",
    "plt.show()"
   ]
  },
  {
   "cell_type": "markdown",
   "id": "08f1ba7f",
   "metadata": {},
   "source": [
    "Filter edip tekrardan visualise ettiğimde bmi oratalamın yani 30'un üstüne çıktığında charges'de gözle görülür bir değişim oluyor. Bunu daha iyi anlamak için veriyi iki grubu ayırdım. İlki bmi 30 ve altı diğeri ise üstü. Bu iki grubun charges ortalamalarındaki değişimden anlaşılıyorki bmi ile charges arasında güçlü bir bağ var. Bmi değeri 30 üstü olanların ortalaması ile 30 altı olanların ortalaması arasında %50 değer değişimi var."
   ]
  },
  {
   "cell_type": "code",
   "execution_count": 20,
   "id": "e89f9aeb",
   "metadata": {},
   "outputs": [],
   "source": [
    "insurance_charge = insurance[insurance[\"charges\"] > 10000]"
   ]
  },
  {
   "cell_type": "code",
   "execution_count": 21,
   "id": "4bdf1381",
   "metadata": {},
   "outputs": [
    {
     "data": {
      "image/png": "[encoded data removed]",
      "text/plain": [
       "<Figure size 432x288 with 1 Axes>"
      ]
     },
     "metadata": {},
     "output_type": "display_data"
    }
   ],
   "source": [
    "sns.scatterplot(x= \"bmi\",\n",
    "             y= \"charges\",\n",
    "            data= insurance_charge)\n",
    "plt.show()"
   ]
  },
  {
   "cell_type": "code",
   "execution_count": 22,
   "id": "dbb45ade",
   "metadata": {},
   "outputs": [
    {
     "name": "stdout",
     "output_type": "stream",
     "text": [
      "count      705.000000\n",
      "mean     15560.926321\n",
      "std      14563.057442\n",
      "min       1131.506600\n",
      "25%       5240.765000\n",
      "50%       9964.060000\n",
      "75%      19673.335730\n",
      "max      63770.428010\n",
      "Name: charges, dtype: float64\n",
      "count      633.000000\n",
      "mean     10719.386942\n",
      "std       7850.451272\n",
      "min       1121.873900\n",
      "25%       4435.094200\n",
      "50%       8604.483650\n",
      "75%      14988.432000\n",
      "max      38245.593270\n",
      "Name: charges, dtype: float64\n"
     ]
    }
   ],
   "source": [
    "bmi_more = insurance[insurance[\"bmi\"] > 30 ].charges.describe()\n",
    "bmi_less = insurance[insurance[\"bmi\"] <= 30].charges.describe()\n",
    "print(bmi_more)\n",
    "print(bmi_less)"
   ]
  },
  {
   "cell_type": "markdown",
   "id": "33c2d97d",
   "metadata": {},
   "source": [
    "###### “Region”, “smoker” ve “bmi” arasındaki ilişki\n",
    "\n",
    "Region, smoker, ve bmi arasında ilişkiyi bar grap ile göstermemi istemişsiniz ama scatter plot ile daha sağlıklı olduğu düşündüğüm için scatter plot ile göstermek istedim."
   ]
  },
  {
   "cell_type": "code",
   "execution_count": 23,
   "id": "0642d7e1",
   "metadata": {},
   "outputs": [
    {
     "data": {
      "image/png": "[encoded data removed]",
      "text/plain": [
       "<Figure size 1491.62x360 with 4 Axes>"
      ]
     },
     "metadata": {},
     "output_type": "display_data"
    }
   ],
   "source": [
    "sns.relplot(x=\"smoker\",                   \n",
    "               y= \"bmi\",\n",
    "               data= insurance,\n",
    "            kind= \"scatter\",               \n",
    "                col= \"region\",\n",
    "            hue = \"smoker\",\n",
    "            \n",
    "               )\n",
    "plt.show()\n"
   ]
  },
  {
   "cell_type": "markdown",
   "id": "8814a2e9",
   "metadata": {},
   "source": [
    "# Veri Ön İşleme Yapılması"
   ]
  },
  {
   "cell_type": "code",
   "execution_count": 24,
   "id": "df4e9f1e",
   "metadata": {},
   "outputs": [
    {
     "data": {
      "text/html": [
       "<div>\n",
       "<style scoped>\n",
       "    .dataframe tbody tr th:only-of-type {\n",
       "        vertical-align: middle;\n",
       "    }\n",
       "\n",
       "    .dataframe tbody tr th {\n",
       "        vertical-align: top;\n",
       "    }\n",
       "\n",
       "    .dataframe thead th {\n",
       "        text-align: right;\n",
       "    }\n",
       "</style>\n",
       "<table border=\"1\" class=\"dataframe\">\n",
       "  <thead>\n",
       "    <tr style=\"text-align: right;\">\n",
       "      <th></th>\n",
       "      <th>age</th>\n",
       "      <th>sex</th>\n",
       "      <th>bmi</th>\n",
       "      <th>children</th>\n",
       "      <th>smoker</th>\n",
       "      <th>region</th>\n",
       "      <th>charges</th>\n",
       "    </tr>\n",
       "  </thead>\n",
       "  <tbody>\n",
       "    <tr>\n",
       "      <th>0</th>\n",
       "      <td>19</td>\n",
       "      <td>female</td>\n",
       "      <td>27.90</td>\n",
       "      <td>0</td>\n",
       "      <td>yes</td>\n",
       "      <td>southwest</td>\n",
       "      <td>16884.9240</td>\n",
       "    </tr>\n",
       "    <tr>\n",
       "      <th>1</th>\n",
       "      <td>18</td>\n",
       "      <td>male</td>\n",
       "      <td>33.77</td>\n",
       "      <td>1</td>\n",
       "      <td>no</td>\n",
       "      <td>southeast</td>\n",
       "      <td>1725.5523</td>\n",
       "    </tr>\n",
       "    <tr>\n",
       "      <th>2</th>\n",
       "      <td>28</td>\n",
       "      <td>male</td>\n",
       "      <td>33.00</td>\n",
       "      <td>3</td>\n",
       "      <td>no</td>\n",
       "      <td>southeast</td>\n",
       "      <td>4449.4620</td>\n",
       "    </tr>\n",
       "  </tbody>\n",
       "</table>\n",
       "</div>"
      ],
      "text/plain": [
       "   age     sex    bmi  children smoker     region     charges\n",
       "0   19  female  27.90         0    yes  southwest  16884.9240\n",
       "1   18    male  33.77         1     no  southeast   1725.5523\n",
       "2   28    male  33.00         3     no  southeast   4449.4620"
      ]
     },
     "execution_count": 24,
     "metadata": {},
     "output_type": "execute_result"
    }
   ],
   "source": [
    "insurance.head(3)"
   ]
  },
  {
   "cell_type": "markdown",
   "id": "ffa5dac5",
   "metadata": {},
   "source": [
    "###### Kategorik değişkenleri düzenlemek için Label ve One-Hot Encoding tekniklerini kullanınız.\n",
    "\n",
    "* Kategorik değişkenleri düzenlemek için önce LabelEncoder yöntemini kullanarak sex ve smoker'ı binary değerlere dönüştürdüm. \n",
    "* Daha sonra pandas dummies'i kullanarak kategorik olan region verilerini binary değerlere dönüştürdüm.\n"
   ]
  },
  {
   "cell_type": "code",
   "execution_count": 25,
   "id": "4fe9c79f",
   "metadata": {},
   "outputs": [],
   "source": [
    "labelencoder = LabelEncoder()\n",
    "insurance[\"sex\"] = labelencoder.fit_transform(insurance[\"sex\"].values) "
   ]
  },
  {
   "cell_type": "code",
   "execution_count": 26,
   "id": "8d75fbcb",
   "metadata": {},
   "outputs": [],
   "source": [
    "insurance[\"smoker\"] = labelencoder.fit_transform(insurance[\"smoker\"].values) "
   ]
  },
  {
   "cell_type": "code",
   "execution_count": 27,
   "id": "9a73a1b3",
   "metadata": {},
   "outputs": [
    {
     "data": {
      "text/html": [
       "<div>\n",
       "<style scoped>\n",
       "    .dataframe tbody tr th:only-of-type {\n",
       "        vertical-align: middle;\n",
       "    }\n",
       "\n",
       "    .dataframe tbody tr th {\n",
       "        vertical-align: top;\n",
       "    }\n",
       "\n",
       "    .dataframe thead th {\n",
       "        text-align: right;\n",
       "    }\n",
       "</style>\n",
       "<table border=\"1\" class=\"dataframe\">\n",
       "  <thead>\n",
       "    <tr style=\"text-align: right;\">\n",
       "      <th></th>\n",
       "      <th>age</th>\n",
       "      <th>sex</th>\n",
       "      <th>bmi</th>\n",
       "      <th>children</th>\n",
       "      <th>smoker</th>\n",
       "      <th>charges</th>\n",
       "      <th>region_northeast</th>\n",
       "      <th>region_northwest</th>\n",
       "      <th>region_southeast</th>\n",
       "      <th>region_southwest</th>\n",
       "    </tr>\n",
       "  </thead>\n",
       "  <tbody>\n",
       "    <tr>\n",
       "      <th>0</th>\n",
       "      <td>19</td>\n",
       "      <td>0</td>\n",
       "      <td>27.90</td>\n",
       "      <td>0</td>\n",
       "      <td>1</td>\n",
       "      <td>16884.9240</td>\n",
       "      <td>0</td>\n",
       "      <td>0</td>\n",
       "      <td>0</td>\n",
       "      <td>1</td>\n",
       "    </tr>\n",
       "    <tr>\n",
       "      <th>1</th>\n",
       "      <td>18</td>\n",
       "      <td>1</td>\n",
       "      <td>33.77</td>\n",
       "      <td>1</td>\n",
       "      <td>0</td>\n",
       "      <td>1725.5523</td>\n",
       "      <td>0</td>\n",
       "      <td>0</td>\n",
       "      <td>1</td>\n",
       "      <td>0</td>\n",
       "    </tr>\n",
       "    <tr>\n",
       "      <th>2</th>\n",
       "      <td>28</td>\n",
       "      <td>1</td>\n",
       "      <td>33.00</td>\n",
       "      <td>3</td>\n",
       "      <td>0</td>\n",
       "      <td>4449.4620</td>\n",
       "      <td>0</td>\n",
       "      <td>0</td>\n",
       "      <td>1</td>\n",
       "      <td>0</td>\n",
       "    </tr>\n",
       "  </tbody>\n",
       "</table>\n",
       "</div>"
      ],
      "text/plain": [
       "   age  sex    bmi  children  smoker     charges  region_northeast  \\\n",
       "0   19    0  27.90         0       1  16884.9240                 0   \n",
       "1   18    1  33.77         1       0   1725.5523                 0   \n",
       "2   28    1  33.00         3       0   4449.4620                 0   \n",
       "\n",
       "   region_northwest  region_southeast  region_southwest  \n",
       "0                 0                 0                 1  \n",
       "1                 0                 1                 0  \n",
       "2                 0                 1                 0  "
      ]
     },
     "execution_count": 27,
     "metadata": {},
     "output_type": "execute_result"
    }
   ],
   "source": [
    "insurance = pd.get_dummies(insurance)\n",
    "insurance.head(3)"
   ]
  },
  {
   "cell_type": "markdown",
   "id": "21f957ba",
   "metadata": {},
   "source": [
    "###### Veri setinizi X_train,X_test, y_train, y_test olacak şekilde bölüştürünüz ve veri setini normalize ederek ölçekleyiniz."
   ]
  },
  {
   "cell_type": "code",
   "execution_count": 28,
   "id": "7a232099",
   "metadata": {},
   "outputs": [],
   "source": [
    "X = insurance.drop(\"charges\", axis = 1)\n",
    "y = insurance[\"charges\"]\n",
    "\n",
    "\n",
    "\n"
   ]
  },
  {
   "cell_type": "markdown",
   "id": "f930ec63",
   "metadata": {},
   "source": [
    "###### Veri setini normalize ederek ölçekleyiniz.\n"
   ]
  },
  {
   "cell_type": "code",
   "execution_count": 29,
   "id": "27f87453",
   "metadata": {},
   "outputs": [],
   "source": [
    "X = preprocessing.normalize(X)\n"
   ]
  },
  {
   "cell_type": "code",
   "execution_count": 30,
   "id": "95b3a5da",
   "metadata": {},
   "outputs": [],
   "source": [
    "SEED = 1\n",
    "\n",
    "X_train, X_test, y_train, y_test = train_test_split(X, y, test_size = 0.3,\n",
    "                                                   random_state = SEED)"
   ]
  },
  {
   "cell_type": "markdown",
   "id": "980ef5a6",
   "metadata": {},
   "source": [
    "# Model Seçme\n",
    "\n",
    "Bunun için 3 tip regression modellerini ayrı ayrı train edeceğim. Bunlar sırasıyla;\n",
    "\n",
    "* Linear Regression\n",
    "* Lasso Regression\n",
    "* Ridge Regression\n"
   ]
  },
  {
   "cell_type": "code",
   "execution_count": 31,
   "id": "939c52fb",
   "metadata": {},
   "outputs": [],
   "source": [
    "lin_reg = LinearRegression()\n",
    "las_reg = Lasso()\n",
    "rid_reg = Ridge()"
   ]
  },
  {
   "cell_type": "code",
   "execution_count": 32,
   "id": "aad29dcf",
   "metadata": {},
   "outputs": [],
   "source": [
    "lin_reg.fit(X_train, y_train)\n",
    "y_pred_lin = lin_reg.predict(X_test)\n"
   ]
  },
  {
   "cell_type": "code",
   "execution_count": 33,
   "id": "093be0d2",
   "metadata": {},
   "outputs": [
    {
     "name": "stdout",
     "output_type": "stream",
     "text": [
      "0.654796203488902\n",
      "0.6480781324074156\n"
     ]
    }
   ],
   "source": [
    "print(lin_reg.score(X_train, y_train))\n",
    "print(lin_reg.score(X_test, y_test))"
   ]
  },
  {
   "cell_type": "code",
   "execution_count": 34,
   "id": "5572f8c1",
   "metadata": {},
   "outputs": [],
   "source": [
    "las_reg.fit(X_train, y_train)\n",
    "y_pred_las = las_reg.predict(X_test)\n"
   ]
  },
  {
   "cell_type": "code",
   "execution_count": 35,
   "id": "ffc77681",
   "metadata": {},
   "outputs": [
    {
     "name": "stdout",
     "output_type": "stream",
     "text": [
      "0.6478229458201933\n",
      "0.631336428193138\n"
     ]
    }
   ],
   "source": [
    "print(las_reg.score(X_train, y_train))\n",
    "print(las_reg.score(X_test, y_test))"
   ]
  },
  {
   "cell_type": "code",
   "execution_count": 36,
   "id": "35ac7a0e",
   "metadata": {},
   "outputs": [],
   "source": [
    "rid_reg.fit(X_train, y_train)\n",
    "y_pred_rid = rid_reg.predict(X_test)\n"
   ]
  },
  {
   "cell_type": "code",
   "execution_count": 37,
   "id": "94d9f4ca",
   "metadata": {},
   "outputs": [
    {
     "name": "stdout",
     "output_type": "stream",
     "text": [
      "0.10158098867739263\n",
      "0.09482936076836335\n"
     ]
    }
   ],
   "source": [
    "print(rid_reg.score(X_train, y_train))\n",
    "print(rid_reg.score(X_test, y_test))"
   ]
  },
  {
   "cell_type": "markdown",
   "id": "43052169",
   "metadata": {},
   "source": [
    "Linear regression ve lasso regression score'ları birbirine çok yakın olduğu için bu iki model ile devam edeceğim."
   ]
  },
  {
   "cell_type": "markdown",
   "id": "658a14da",
   "metadata": {},
   "source": [
    "# Hiper-parametre Optimizasyonu\n",
    "\n",
    "Bunun için grid search cv yerine random search cv kullandım çünkü parametreleri geniş tutup daha fazla ihtimal arasında optimizasyon yapmak istedim. Fakat hiper-parameter optimizasyonunu sadece Lasso regression'da yaptım. Linear regression'da kullanabileceğim parametreler yok. Fakat bu training'in en iyi modeli yine linear regression ile sağlanıyor. Score en iyi parametre ihtimallerinde bir Lasso regression'da %64'e ulaşmadı."
   ]
  },
  {
   "cell_type": "code",
   "execution_count": 38,
   "id": "52889dee",
   "metadata": {},
   "outputs": [
    {
     "name": "stdout",
     "output_type": "stream",
     "text": [
      "{'selection': 'cyclic', 'max_iter': 2101, 'alpha': 0.01} 0.640389916865507\n"
     ]
    }
   ],
   "source": [
    "kf = KFold(n_splits = 10, shuffle = True, random_state = SEED)\n",
    "param_grid = {\"alpha\": np.arange(0.01, 10, 100),\n",
    "              \"max_iter\": np.arange(1, 10000, 100),\n",
    "             \"selection\": [\"cyclic\", \"random\"]}\n",
    "\n",
    "lasso = Lasso()\n",
    "\n",
    "lasso_cv = RandomizedSearchCV(lasso, param_grid, cv= kf)\n",
    "lasso_cv.fit(X_train, y_train)\n",
    "print(lasso_cv.best_params_, lasso_cv.best_score_)\n",
    "\n",
    "              \n",
    "\n"
   ]
  },
  {
   "cell_type": "markdown",
   "id": "5145e742",
   "metadata": {},
   "source": [
    "# Modeli Değerlendirme\n",
    "\n",
    "Model değerlendirme bölümünü üçe böldüm;\n",
    "* ilkinde yukarıdaki training sonrası çıkan modelleri değerlendirdim çünkü yukarıdaki training'de standard scaller yada polynomial kullanmak yerine noramlizer ile ölçeklendirmiştim. Onun değerleri aşağıda.\n",
    "* ikincisinde ise standard scaler ile veriyi ölçeklendirip tekrardan training aşamalarına soktum, veriyi tekrar train ederken parametre optimizasyonunda elde ettiğim alpha değerini kullandım.\n",
    "* sonunda ise polynomial ile veriyi ölçeklendirip tekrardan training aşamalarına soktum, veriyi tekrar train ederken parametre optimizasyonunda elde ettiğim alpha değerini kullandım.\n"
   ]
  },
  {
   "cell_type": "code",
   "execution_count": 39,
   "id": "8352835a",
   "metadata": {},
   "outputs": [
    {
     "name": "stdout",
     "output_type": "stream",
     "text": [
      "Predictions: [ 5757.99206227 14154.47938788 13571.05599546 13400.26529706\n",
      " -2391.58514808], Actual Values: 559      1646.4297\n",
      "1087    11353.2276\n",
      "1020     8798.5930\n",
      "460     10381.4787\n",
      "802      2103.0800\n",
      "Name: charges, dtype: float64\n"
     ]
    }
   ],
   "source": [
    "print(\"Predictions: {}, Actual Values: {}\".format(y_pred_lin[:5], y_test[:5]))"
   ]
  },
  {
   "cell_type": "code",
   "execution_count": 40,
   "id": "fc295c1f",
   "metadata": {},
   "outputs": [
    {
     "name": "stdout",
     "output_type": "stream",
     "text": [
      "Predictions: [ 5338.72259135 13644.24363638 12574.88966206 12695.00214572\n",
      "  -320.75177104], Actual Values: 559      1646.4297\n",
      "1087    11353.2276\n",
      "1020     8798.5930\n",
      "460     10381.4787\n",
      "802      2103.0800\n",
      "Name: charges, dtype: float64\n"
     ]
    }
   ],
   "source": [
    "print(\"Predictions: {}, Actual Values: {}\".format(y_pred_las[:5], y_test[:5]))"
   ]
  },
  {
   "cell_type": "code",
   "execution_count": 41,
   "id": "3623540c",
   "metadata": {},
   "outputs": [
    {
     "data": {
      "text/plain": [
       "7062.095737278523"
      ]
     },
     "execution_count": 41,
     "metadata": {},
     "output_type": "execute_result"
    }
   ],
   "source": [
    "RMSE_linreg =mean_squared_error(y_test, y_pred_lin, squared= False)\n",
    "RMSE_linreg"
   ]
  },
  {
   "cell_type": "code",
   "execution_count": 42,
   "id": "b72656bf",
   "metadata": {},
   "outputs": [
    {
     "data": {
      "text/plain": [
       "7228.123879868179"
      ]
     },
     "execution_count": 42,
     "metadata": {},
     "output_type": "execute_result"
    }
   ],
   "source": [
    "RMSE_las =mean_squared_error(y_test, y_pred_las, squared= False)\n",
    "RMSE_las"
   ]
  },
  {
   "cell_type": "markdown",
   "id": "28bc9582",
   "metadata": {},
   "source": [
    "* İşte buradan sonra standard scaler ile optimize edilmiş veri setiyle tekrar training yaptım."
   ]
  },
  {
   "cell_type": "code",
   "execution_count": 43,
   "id": "f62a49e0",
   "metadata": {},
   "outputs": [],
   "source": [
    "insurance_1 = pd.read_csv(r\"C:\\Users\\ibrah\\OneDrive\\Masaüstü\\Pythonnnnnnn\\Global AI Hub Projects\\Data Science Project\\Data\\insurance.csv\")"
   ]
  },
  {
   "cell_type": "code",
   "execution_count": 44,
   "id": "28417a99",
   "metadata": {},
   "outputs": [],
   "source": [
    "labelencoder = LabelEncoder()\n",
    "insurance_1[\"sex\"] = labelencoder.fit_transform(insurance_1[\"sex\"].values) "
   ]
  },
  {
   "cell_type": "code",
   "execution_count": 45,
   "id": "a5941178",
   "metadata": {},
   "outputs": [],
   "source": [
    "insurance_1[\"smoker\"] = labelencoder.fit_transform(insurance_1[\"smoker\"].values) "
   ]
  },
  {
   "cell_type": "code",
   "execution_count": 46,
   "id": "809451e6",
   "metadata": {},
   "outputs": [
    {
     "data": {
      "text/html": [
       "<div>\n",
       "<style scoped>\n",
       "    .dataframe tbody tr th:only-of-type {\n",
       "        vertical-align: middle;\n",
       "    }\n",
       "\n",
       "    .dataframe tbody tr th {\n",
       "        vertical-align: top;\n",
       "    }\n",
       "\n",
       "    .dataframe thead th {\n",
       "        text-align: right;\n",
       "    }\n",
       "</style>\n",
       "<table border=\"1\" class=\"dataframe\">\n",
       "  <thead>\n",
       "    <tr style=\"text-align: right;\">\n",
       "      <th></th>\n",
       "      <th>age</th>\n",
       "      <th>sex</th>\n",
       "      <th>bmi</th>\n",
       "      <th>children</th>\n",
       "      <th>smoker</th>\n",
       "      <th>charges</th>\n",
       "      <th>region_northeast</th>\n",
       "      <th>region_northwest</th>\n",
       "      <th>region_southeast</th>\n",
       "      <th>region_southwest</th>\n",
       "    </tr>\n",
       "  </thead>\n",
       "  <tbody>\n",
       "    <tr>\n",
       "      <th>0</th>\n",
       "      <td>19</td>\n",
       "      <td>0</td>\n",
       "      <td>27.90</td>\n",
       "      <td>0</td>\n",
       "      <td>1</td>\n",
       "      <td>16884.9240</td>\n",
       "      <td>0</td>\n",
       "      <td>0</td>\n",
       "      <td>0</td>\n",
       "      <td>1</td>\n",
       "    </tr>\n",
       "    <tr>\n",
       "      <th>1</th>\n",
       "      <td>18</td>\n",
       "      <td>1</td>\n",
       "      <td>33.77</td>\n",
       "      <td>1</td>\n",
       "      <td>0</td>\n",
       "      <td>1725.5523</td>\n",
       "      <td>0</td>\n",
       "      <td>0</td>\n",
       "      <td>1</td>\n",
       "      <td>0</td>\n",
       "    </tr>\n",
       "    <tr>\n",
       "      <th>2</th>\n",
       "      <td>28</td>\n",
       "      <td>1</td>\n",
       "      <td>33.00</td>\n",
       "      <td>3</td>\n",
       "      <td>0</td>\n",
       "      <td>4449.4620</td>\n",
       "      <td>0</td>\n",
       "      <td>0</td>\n",
       "      <td>1</td>\n",
       "      <td>0</td>\n",
       "    </tr>\n",
       "  </tbody>\n",
       "</table>\n",
       "</div>"
      ],
      "text/plain": [
       "   age  sex    bmi  children  smoker     charges  region_northeast  \\\n",
       "0   19    0  27.90         0       1  16884.9240                 0   \n",
       "1   18    1  33.77         1       0   1725.5523                 0   \n",
       "2   28    1  33.00         3       0   4449.4620                 0   \n",
       "\n",
       "   region_northwest  region_southeast  region_southwest  \n",
       "0                 0                 0                 1  \n",
       "1                 0                 1                 0  \n",
       "2                 0                 1                 0  "
      ]
     },
     "execution_count": 46,
     "metadata": {},
     "output_type": "execute_result"
    }
   ],
   "source": [
    "insurance_1 = pd.get_dummies(insurance_1)\n",
    "insurance_1.head(3)"
   ]
  },
  {
   "cell_type": "code",
   "execution_count": 47,
   "id": "c0b31ddc",
   "metadata": {},
   "outputs": [],
   "source": [
    "X_1 = insurance_1.drop(\"charges\", axis = 1)\n",
    "y_1 = insurance_1[\"charges\"]"
   ]
  },
  {
   "cell_type": "code",
   "execution_count": 48,
   "id": "48291bcd",
   "metadata": {},
   "outputs": [],
   "source": [
    "SEED = 2\n",
    "\n",
    "X_1_train, X_1_test, y_1_train, y_1_test = train_test_split(X_1, y_1, test_size = 0.3,\n",
    "                                                   random_state = SEED)"
   ]
  },
  {
   "cell_type": "code",
   "execution_count": 49,
   "id": "1a1f3d64",
   "metadata": {},
   "outputs": [],
   "source": [
    "scaler =StandardScaler()\n",
    "X_1_train_scaled = scaler.fit_transform(X_1_train)\n",
    "X_1_test_scaled = scaler.transform(X_1_test)"
   ]
  },
  {
   "cell_type": "code",
   "execution_count": 50,
   "id": "480a2c26",
   "metadata": {},
   "outputs": [
    {
     "data": {
      "image/png": "[encoded data removed]",
      "text/plain": [
       "<Figure size 432x288 with 1 Axes>"
      ]
     },
     "metadata": {},
     "output_type": "display_data"
    }
   ],
   "source": [
    "models = {\"Linear Regression\": LinearRegression(), \"Lasso\": Lasso(alpha=0.01)}\n",
    "results = []\n",
    "\n",
    "\n",
    "for model in models.values():\n",
    "    kf = KFold(n_splits=10, random_state=SEED, shuffle=True)\n",
    "  \n",
    "  # Perform cross-validation\n",
    "    cv_scores = cross_val_score(model, X_1_train, y_1_train, cv=kf)\n",
    "  \n",
    "  # Append the results\n",
    "    results.append(cv_scores)\n",
    "\n",
    "# Create a box plot of the results\n",
    "plt.boxplot(results, labels=models.keys())\n",
    "plt.show()"
   ]
  },
  {
   "cell_type": "code",
   "execution_count": 51,
   "id": "efa8996d",
   "metadata": {},
   "outputs": [
    {
     "name": "stdout",
     "output_type": "stream",
     "text": [
      "Linear Regression Test Set Accuracy: 0.7642348545269875\n",
      "Lasso Test Set Accuracy: 0.7642348775002678\n"
     ]
    }
   ],
   "source": [
    "for name, model in models.items():\n",
    "    model.fit(X_1_train, y_1_train)\n",
    "    test_score = model.score(X_1_test, y_1_test)\n",
    "    print(\"{} Test Set Accuracy: {}\".format(name, test_score))"
   ]
  },
  {
   "cell_type": "code",
   "execution_count": 52,
   "id": "64fbe2ac",
   "metadata": {},
   "outputs": [
    {
     "name": "stdout",
     "output_type": "stream",
     "text": [
      "Linear Regression Test Set RMSE: 6173.227072593415\n",
      "Linear Regression Predictions: [ 2081.40696945 12095.34272292 10543.98701922  2596.691265\n",
      "  8389.43547912], Actual Values: 559      1646.4297\n",
      "1087    11353.2276\n",
      "1020     8798.5930\n",
      "460     10381.4787\n",
      "802      2103.0800\n",
      "Name: charges, dtype: float64\n",
      "Lasso Test Set RMSE: 6173.227036966229\n",
      "Lasso Predictions: [ 2081.45126417 12095.33413749 10543.9996001   2596.71838527\n",
      "  8389.44529213], Actual Values: 559      1646.4297\n",
      "1087    11353.2276\n",
      "1020     8798.5930\n",
      "460     10381.4787\n",
      "802      2103.0800\n",
      "Name: charges, dtype: float64\n"
     ]
    }
   ],
   "source": [
    "for name, model in models.items():\n",
    "    model.fit(X_1_train_scaled, y_1_train)\n",
    "    y_1_pred = model.predict(X_1_test_scaled)\n",
    "    test_rmse = mean_squared_error(y_1_test, y_1_pred, squared= False)\n",
    "    print(\"{} Test Set RMSE: {}\".format(name, test_rmse))\n",
    "    print(\"{} Predictions: {}, Actual Values: {}\".format(name, y_1_pred[:5], y_test[:5]))"
   ]
  },
  {
   "cell_type": "markdown",
   "id": "8ea704fd",
   "metadata": {},
   "source": [
    "* İkinci training işleminde açıkça görülüyor ki score'lar ve RMSE değerlerinde iyileşme var.\n",
    "* Şimdi ise polynomial kullanarak optimize edilmiş train modelleri var"
   ]
  },
  {
   "cell_type": "code",
   "execution_count": 53,
   "id": "742ca7f6",
   "metadata": {},
   "outputs": [],
   "source": [
    "insurance_2 = pd.read_csv(r\"C:\\Users\\ibrah\\OneDrive\\Masaüstü\\Pythonnnnnnn\\Global AI Hub Projects\\Data Science Project\\Data\\insurance.csv\")"
   ]
  },
  {
   "cell_type": "code",
   "execution_count": 54,
   "id": "5e5dafe8",
   "metadata": {},
   "outputs": [],
   "source": [
    "labelencoder = LabelEncoder()\n",
    "insurance_2[\"sex\"] = labelencoder.fit_transform(insurance_2[\"sex\"].values) "
   ]
  },
  {
   "cell_type": "code",
   "execution_count": 55,
   "id": "dd9c4498",
   "metadata": {},
   "outputs": [],
   "source": [
    "insurance_2[\"smoker\"] = labelencoder.fit_transform(insurance_2[\"smoker\"].values) "
   ]
  },
  {
   "cell_type": "code",
   "execution_count": 56,
   "id": "526f8f52",
   "metadata": {},
   "outputs": [
    {
     "data": {
      "text/html": [
       "<div>\n",
       "<style scoped>\n",
       "    .dataframe tbody tr th:only-of-type {\n",
       "        vertical-align: middle;\n",
       "    }\n",
       "\n",
       "    .dataframe tbody tr th {\n",
       "        vertical-align: top;\n",
       "    }\n",
       "\n",
       "    .dataframe thead th {\n",
       "        text-align: right;\n",
       "    }\n",
       "</style>\n",
       "<table border=\"1\" class=\"dataframe\">\n",
       "  <thead>\n",
       "    <tr style=\"text-align: right;\">\n",
       "      <th></th>\n",
       "      <th>age</th>\n",
       "      <th>sex</th>\n",
       "      <th>bmi</th>\n",
       "      <th>children</th>\n",
       "      <th>smoker</th>\n",
       "      <th>charges</th>\n",
       "      <th>region_northeast</th>\n",
       "      <th>region_northwest</th>\n",
       "      <th>region_southeast</th>\n",
       "      <th>region_southwest</th>\n",
       "    </tr>\n",
       "  </thead>\n",
       "  <tbody>\n",
       "    <tr>\n",
       "      <th>0</th>\n",
       "      <td>19</td>\n",
       "      <td>0</td>\n",
       "      <td>27.90</td>\n",
       "      <td>0</td>\n",
       "      <td>1</td>\n",
       "      <td>16884.9240</td>\n",
       "      <td>0</td>\n",
       "      <td>0</td>\n",
       "      <td>0</td>\n",
       "      <td>1</td>\n",
       "    </tr>\n",
       "    <tr>\n",
       "      <th>1</th>\n",
       "      <td>18</td>\n",
       "      <td>1</td>\n",
       "      <td>33.77</td>\n",
       "      <td>1</td>\n",
       "      <td>0</td>\n",
       "      <td>1725.5523</td>\n",
       "      <td>0</td>\n",
       "      <td>0</td>\n",
       "      <td>1</td>\n",
       "      <td>0</td>\n",
       "    </tr>\n",
       "    <tr>\n",
       "      <th>2</th>\n",
       "      <td>28</td>\n",
       "      <td>1</td>\n",
       "      <td>33.00</td>\n",
       "      <td>3</td>\n",
       "      <td>0</td>\n",
       "      <td>4449.4620</td>\n",
       "      <td>0</td>\n",
       "      <td>0</td>\n",
       "      <td>1</td>\n",
       "      <td>0</td>\n",
       "    </tr>\n",
       "  </tbody>\n",
       "</table>\n",
       "</div>"
      ],
      "text/plain": [
       "   age  sex    bmi  children  smoker     charges  region_northeast  \\\n",
       "0   19    0  27.90         0       1  16884.9240                 0   \n",
       "1   18    1  33.77         1       0   1725.5523                 0   \n",
       "2   28    1  33.00         3       0   4449.4620                 0   \n",
       "\n",
       "   region_northwest  region_southeast  region_southwest  \n",
       "0                 0                 0                 1  \n",
       "1                 0                 1                 0  \n",
       "2                 0                 1                 0  "
      ]
     },
     "execution_count": 56,
     "metadata": {},
     "output_type": "execute_result"
    }
   ],
   "source": [
    "insurance_2 = pd.get_dummies(insurance_1)\n",
    "insurance_2.head(3)"
   ]
  },
  {
   "cell_type": "code",
   "execution_count": 57,
   "id": "165b5339",
   "metadata": {},
   "outputs": [],
   "source": [
    "X_2 = insurance_2.drop(\"charges\", axis = 1)\n",
    "y_2 = insurance_2[\"charges\"]"
   ]
  },
  {
   "cell_type": "code",
   "execution_count": 58,
   "id": "ca4a5294",
   "metadata": {},
   "outputs": [],
   "source": [
    "poly_reg = PolynomialFeatures(degree= 2)\n",
    "X_poly = poly_reg.fit_transform(X_2)"
   ]
  },
  {
   "cell_type": "code",
   "execution_count": 59,
   "id": "0aedad03",
   "metadata": {},
   "outputs": [],
   "source": [
    "SEED = 3\n",
    "\n",
    "X_poly_train, X_poly_test, y_2_train, y_2_test = train_test_split(X_poly, y_2, test_size = 0.3,\n",
    "                                                   random_state = SEED)"
   ]
  },
  {
   "cell_type": "code",
   "execution_count": 60,
   "id": "4fe373d6",
   "metadata": {},
   "outputs": [
    {
     "name": "stderr",
     "output_type": "stream",
     "text": [
      "C:\\Users\\ibrah\\AppData\\Roaming\\Python\\Python310\\site-packages\\sklearn\\linear_model\\_coordinate_descent.py:648: ConvergenceWarning: Objective did not converge. You might want to increase the number of iterations, check the scale of the features or consider increasing regularisation. Duality gap: 9.503e+09, tolerance: 1.284e+07\n",
      "  model = cd_fast.enet_coordinate_descent(\n",
      "C:\\Users\\ibrah\\AppData\\Roaming\\Python\\Python310\\site-packages\\sklearn\\linear_model\\_coordinate_descent.py:648: ConvergenceWarning: Objective did not converge. You might want to increase the number of iterations, check the scale of the features or consider increasing regularisation. Duality gap: 9.384e+09, tolerance: 1.245e+07\n",
      "  model = cd_fast.enet_coordinate_descent(\n",
      "C:\\Users\\ibrah\\AppData\\Roaming\\Python\\Python310\\site-packages\\sklearn\\linear_model\\_coordinate_descent.py:648: ConvergenceWarning: Objective did not converge. You might want to increase the number of iterations, check the scale of the features or consider increasing regularisation. Duality gap: 9.188e+09, tolerance: 1.285e+07\n",
      "  model = cd_fast.enet_coordinate_descent(\n",
      "C:\\Users\\ibrah\\AppData\\Roaming\\Python\\Python310\\site-packages\\sklearn\\linear_model\\_coordinate_descent.py:648: ConvergenceWarning: Objective did not converge. You might want to increase the number of iterations, check the scale of the features or consider increasing regularisation. Duality gap: 9.544e+09, tolerance: 1.238e+07\n",
      "  model = cd_fast.enet_coordinate_descent(\n",
      "C:\\Users\\ibrah\\AppData\\Roaming\\Python\\Python310\\site-packages\\sklearn\\linear_model\\_coordinate_descent.py:648: ConvergenceWarning: Objective did not converge. You might want to increase the number of iterations, check the scale of the features or consider increasing regularisation. Duality gap: 8.840e+09, tolerance: 1.229e+07\n",
      "  model = cd_fast.enet_coordinate_descent(\n",
      "C:\\Users\\ibrah\\AppData\\Roaming\\Python\\Python310\\site-packages\\sklearn\\linear_model\\_coordinate_descent.py:648: ConvergenceWarning: Objective did not converge. You might want to increase the number of iterations, check the scale of the features or consider increasing regularisation. Duality gap: 9.170e+09, tolerance: 1.278e+07\n",
      "  model = cd_fast.enet_coordinate_descent(\n",
      "C:\\Users\\ibrah\\AppData\\Roaming\\Python\\Python310\\site-packages\\sklearn\\linear_model\\_coordinate_descent.py:648: ConvergenceWarning: Objective did not converge. You might want to increase the number of iterations, check the scale of the features or consider increasing regularisation. Duality gap: 9.192e+09, tolerance: 1.273e+07\n",
      "  model = cd_fast.enet_coordinate_descent(\n",
      "C:\\Users\\ibrah\\AppData\\Roaming\\Python\\Python310\\site-packages\\sklearn\\linear_model\\_coordinate_descent.py:648: ConvergenceWarning: Objective did not converge. You might want to increase the number of iterations, check the scale of the features or consider increasing regularisation. Duality gap: 9.134e+09, tolerance: 1.226e+07\n",
      "  model = cd_fast.enet_coordinate_descent(\n",
      "C:\\Users\\ibrah\\AppData\\Roaming\\Python\\Python310\\site-packages\\sklearn\\linear_model\\_coordinate_descent.py:648: ConvergenceWarning: Objective did not converge. You might want to increase the number of iterations, check the scale of the features or consider increasing regularisation. Duality gap: 8.823e+09, tolerance: 1.237e+07\n",
      "  model = cd_fast.enet_coordinate_descent(\n",
      "C:\\Users\\ibrah\\AppData\\Roaming\\Python\\Python310\\site-packages\\sklearn\\linear_model\\_coordinate_descent.py:648: ConvergenceWarning: Objective did not converge. You might want to increase the number of iterations, check the scale of the features or consider increasing regularisation. Duality gap: 9.119e+09, tolerance: 1.248e+07\n",
      "  model = cd_fast.enet_coordinate_descent(\n"
     ]
    },
    {
     "data": {
      "image/png": "[encoded data removed]",
      "text/plain": [
       "<Figure size 432x288 with 1 Axes>"
      ]
     },
     "metadata": {},
     "output_type": "display_data"
    }
   ],
   "source": [
    "models = {\"Linear Regression\": LinearRegression(), \"Lasso\": Lasso(alpha=0.01)}\n",
    "results = []\n",
    "\n",
    "\n",
    "for model in models.values():\n",
    "    kf = KFold(n_splits=10, random_state=SEED, shuffle=True)\n",
    "  \n",
    "  # Perform cross-validation\n",
    "    cv_scores = cross_val_score(model, X_poly_train, y_2_train, cv=kf)\n",
    "  \n",
    "  # Append the results\n",
    "    results.append(cv_scores)\n",
    "\n",
    "# Create a box plot of the results\n",
    "plt.boxplot(results, labels=models.keys())\n",
    "plt.show()\n"
   ]
  },
  {
   "cell_type": "code",
   "execution_count": 61,
   "id": "a02c7d8f",
   "metadata": {},
   "outputs": [
    {
     "name": "stdout",
     "output_type": "stream",
     "text": [
      "Linear Regression Test Set Accuracy: 0.8312509925003926\n",
      "Lasso Test Set Accuracy: 0.8312515995851405\n"
     ]
    },
    {
     "name": "stderr",
     "output_type": "stream",
     "text": [
      "C:\\Users\\ibrah\\AppData\\Roaming\\Python\\Python310\\site-packages\\sklearn\\linear_model\\_coordinate_descent.py:648: ConvergenceWarning: Objective did not converge. You might want to increase the number of iterations, check the scale of the features or consider increasing regularisation. Duality gap: 1.026e+10, tolerance: 1.394e+07\n",
      "  model = cd_fast.enet_coordinate_descent(\n"
     ]
    }
   ],
   "source": [
    "for name, model in models.items():\n",
    "    model.fit(X_poly_train, y_2_train)\n",
    "    test_score = model.score(X_poly_test, y_2_test)\n",
    "    print(\"{} Test Set Accuracy: {}\".format(name, test_score))"
   ]
  },
  {
   "cell_type": "code",
   "execution_count": 62,
   "id": "e815a20d",
   "metadata": {},
   "outputs": [
    {
     "name": "stdout",
     "output_type": "stream",
     "text": [
      "Linear Regression Test Set RMSE: 4878.467344763226\n",
      "Linear Regression Predictions: [ 6520.4552638  10414.50621999  3469.6320337  12348.53753618\n",
      "  1442.86875623], Actual Values: 559      1646.4297\n",
      "1087    11353.2276\n",
      "1020     8798.5930\n",
      "460     10381.4787\n",
      "802      2103.0800\n",
      "Name: charges, dtype: float64\n",
      "Lasso Test Set RMSE: 4878.458569464854\n",
      "Lasso Predictions: [ 6520.3145581  10414.47344181  3469.68397849 12348.67297522\n",
      "  1442.44447573], Actual Values: 559      1646.4297\n",
      "1087    11353.2276\n",
      "1020     8798.5930\n",
      "460     10381.4787\n",
      "802      2103.0800\n",
      "Name: charges, dtype: float64\n"
     ]
    },
    {
     "name": "stderr",
     "output_type": "stream",
     "text": [
      "C:\\Users\\ibrah\\AppData\\Roaming\\Python\\Python310\\site-packages\\sklearn\\linear_model\\_coordinate_descent.py:648: ConvergenceWarning: Objective did not converge. You might want to increase the number of iterations, check the scale of the features or consider increasing regularisation. Duality gap: 1.026e+10, tolerance: 1.394e+07\n",
      "  model = cd_fast.enet_coordinate_descent(\n"
     ]
    }
   ],
   "source": [
    "for name, model in models.items():\n",
    "    model.fit(X_poly_train, y_2_train)\n",
    "    y_2_pred = model.predict(X_poly_test)\n",
    "    test_rmse = mean_squared_error(y_2_test, y_2_pred, squared= False)\n",
    "    print(\"{} Test Set RMSE: {}\".format(name, test_rmse))\n",
    "    print(\"{} Predictions: {}, Actual Values: {}\".format(name, y_2_pred[:5], y_test[:5]))"
   ]
  },
  {
   "cell_type": "markdown",
   "id": "49357cc6",
   "metadata": {},
   "source": [
    "* En iyi sonuçları polynomial ile optimize edildikten sonra uygulanan training modellerden aldım."
   ]
  },
  {
   "cell_type": "markdown",
   "id": "c9fd5ee1",
   "metadata": {},
   "source": [
    "# Sonuç:\n",
    "\n",
    "* Birden fazla regression, birden fazla optimizasyon ve parametre var. Biz en doğru yöntemi bulmak için hepsini teker teker denedik ve en iyi sonuçları linear ve lasso regression'un alpha 0.01 parametresinde polynomial regression ile optimize edilmiş durumda elde ettik. Accurancy değerleri her ikisinde de % 83'e ulaştı."
   ]
  }
 ],
 "metadata": {
  "kernelspec": {
   "display_name": "Python 3 (ipykernel)",
   "language": "python",
   "name": "python3"
  },
  "language_info": {
   "codemirror_mode": {
    "name": "ipython",
    "version": 3
   },
   "file_extension": ".py",
   "mimetype": "text/x-python",
   "name": "python",
   "nbconvert_exporter": "python",
   "pygments_lexer": "ipython3",
   "version": "3.10.2"
  }
 },
 "nbformat": 4,
 "nbformat_minor": 5
}
